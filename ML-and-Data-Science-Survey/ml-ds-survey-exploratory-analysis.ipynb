{
 "cells": [
  {
   "cell_type": "markdown",
   "metadata": {},
   "source": [
    "# Outline\n",
    "\n",
    "After reviewing the survey schema and playing with the multiple choice responses in XL, I figured there is a lot to be learned from this dataset about the data scientists population, including, but not limited to, who they are, where they work and what they do, what skills they have, how they learn and how they find work. Below I have outlined the questions that constitute the path I follow in my exploratory analysis.\n",
    "\n",
    "#### Survey Statistics\n",
    "- How many survey responders consider themselves data scientists (DS)?\n",
    "\n",
    "#### Demographics\n",
    " - DS population: country, gender, age, academic background?\n",
    "\n",
    "#### Job Particulars\n",
    " - What are DS population job roles? <br>\n",
    " - What are the industries DS work in? <br>\n",
    " - How experienced are DS? <br>\n",
    " - What are DS job functions? <br>\n",
    " - What do DS spend their time on? <br>\n",
    "\n",
    "#### Skills, Tools, Languages\n",
    " - What skills do DS possess? <br>\n",
    " - What kind of tools do DS use? <br>\n",
    " - What programming languages do DS use?\n",
    "\n",
    "#### Work Environment\n",
    " - How satisfied are DS with their job? <br>\n",
    " - What challenges do DS face at work?\n",
    "\n",
    "#### Learning\n",
    " - How do DS squire data science skills?\n",
    "\n",
    "#### Compensation\n",
    " - What kind of money do DS make?\n",
    "\n",
    "#### Job Search\n",
    " - How did DS find their job?\n",
    " \n",
    "\n",
    "## Structure\n",
    "\n",
    "I work through the above questions one-by-one, making use of <b>descriptive statistics</b>, <b>hypothesis testing </b> and <b>data visualisation</b> in attempt to explore each subject from multiple angles. To show my thought process, I include the following in each section of the analysis: <br>\n",
    "1. the question of interest,\n",
    "2. data to be used + method of inquiry,\n",
    "3. code + visualizations,\n",
    "4. findings + interpretation.\n",
    "\n",
    "I conclude the analysis with the summary of what I learned.\n",
    "\n",
    "## Let's get it started!"
   ]
  },
  {
   "cell_type": "code",
   "execution_count": 64,
   "metadata": {
    "collapsed": false
   },
   "outputs": [],
   "source": [
    "import pandas as pd\n",
    "import numpy as np\n",
    "import seaborn as sns\n",
    "import matplotlib.pyplot as plt\n",
    "from IPython.display import HTML"
   ]
  },
  {
   "cell_type": "code",
   "execution_count": 13,
   "metadata": {
    "collapsed": false
   },
   "outputs": [
    {
     "name": "stdout",
     "output_type": "stream",
     "text": [
      "ffresp df shape:  (16716, 62)\n",
      "mcresp df shape:  (16716, 228)\n"
     ]
    }
   ],
   "source": [
    "# we will be using pandas library to handle the data in the data frame object\n",
    "import pandas as pd\n",
    "\n",
    "# load multiple choice responses in data frame mcresp, free form responses - in data frame ffresp\n",
    "mcresp = pd.read_csv(\"multipleChoiceResponses.csv\", encoding=\"ISO-8859-1\", low_memory = False)\n",
    "ffresp = pd.read_csv(\"freeformResponses.csv\", encoding=\"ISO-8859-1\", low_memory = False)\n",
    "# encoding is required, as by default the method is \"utf-8\" and it doesn't recognize certain characters\n",
    "# without low_memory setting python generates warning about mixed types in certain columns\n",
    "\n",
    "print(\"ffresp df shape: \", ffresp.shape)\n",
    "print(\"mcresp df shape: \", mcresp.shape)"
   ]
  },
  {
   "cell_type": "markdown",
   "metadata": {},
   "source": [
    "### Survey Statistics\n",
    "<b>Question(s)</b>: \n",
    "- How many survey responders consider themselves data scientists (DS)? <br>\n",
    "\n",
    "<b>Relevant data: </b> <br>\n",
    "<b>Method of Inqury:</b>"
   ]
  },
  {
   "cell_type": "code",
   "execution_count": null,
   "metadata": {
    "collapsed": true
   },
   "outputs": [],
   "source": [
    "plt.subplots(figsize=(10,8))\n",
    "scientist=response[response['DataScienceIdentitySelect']=='Yes']\n",
    "scientist['CurrentJobTitleSelect'].value_counts().sort_values(ascending=True).plot.barh(width=0.9,color=sns.color_palette('inferno',15))\n",
    "plt.title('Job Titles',size=15)\n",
    "plt.show()"
   ]
  },
  {
   "cell_type": "code",
   "execution_count": null,
   "metadata": {
    "collapsed": true
   },
   "outputs": [],
   "source": [
    "true=response[response['CurrentJobTitleSelect']=='Data Scientist']\n",
    "scientist=pd.concat([scientist,true])\n",
    "scientist['CurrentJobTitleSelect'].shape[0]`"
   ]
  },
  {
   "cell_type": "markdown",
   "metadata": {},
   "source": [
    "<b>Findings:</b> "
   ]
  },
  {
   "cell_type": "markdown",
   "metadata": {},
   "source": [
    "### Demographics\n",
    "<b>Question(s)</b>: \n",
    " - DS population: country, gender, age, academic background?\n",
    " \n",
    "<b>Relevant data: </b> <br>\n",
    "<b>Method of Inqury:</b>"
   ]
  },
  {
   "cell_type": "code",
   "execution_count": null,
   "metadata": {
    "collapsed": true
   },
   "outputs": [],
   "source": [
    "# academic background\n",
    "agef,ax=plt.subplots(1,2,figsize=(25,15))\n",
    "sns.countplot(y=response['MajorSelect'],ax=ax[0],order=response['MajorSelect'].value_counts().index)\n",
    "ax[0].set_title('Major')\n",
    "ax[0].set_ylabel('')\n",
    "sns.countplot(y=response['CurrentJobTitleSelect'],ax=ax[1],order=response['CurrentJobTitleSelect'].value_counts().index)\n",
    "ax[1].set_title('Current Job')\n",
    "ax[1].set_ylabel('')\n",
    "plt.subplots_adjust(wspace=0.8)\n",
    "plt.show()\n",
    "\n",
    "# age\n",
    "plt.subplots(figsize=(15,8))\n",
    "response['Age'].hist(bins=50,edgecolor='black')\n",
    "plt.xticks(list(range(0,80,5)))\n",
    "plt.title('Age Distribution')\n",
    "plt.show()"
   ]
  },
  {
   "cell_type": "code",
   "execution_count": null,
   "metadata": {
    "collapsed": true
   },
   "outputs": [],
   "source": [
    "# formal education, employment status\n",
    "\n",
    "f,ax=plt.subplots(1,2,figsize=(25,10))\n",
    "sns.countplot(y=scientist['EmploymentStatus'],ax=ax[0])\n",
    "ax[0].set_title('Employment Status')\n",
    "ax[0].set_ylabel('')\n",
    "sns.countplot(y=scientist['FormalEducation'],order=scientist['FormalEducation'].value_counts().index,ax=ax[1],palette=sns.color_palette('viridis_r',15))\n",
    "ax[1].set_title('Formal Eduaction')\n",
    "ax[1].set_ylabel('')\n",
    "plt.subplots_adjust(wspace=0.8)\n",
    "plt.show()"
   ]
  },
  {
   "cell_type": "markdown",
   "metadata": {},
   "source": [
    "<b>Findings:</b> "
   ]
  },
  {
   "cell_type": "markdown",
   "metadata": {},
   "source": [
    "### Job Particulars\n",
    "<b>Question(s)</b>: \n",
    " - What are DS job roles? <br>\n",
    " - What are the industries DS work in? <br>\n",
    " - How experienced are DS? <br>\n",
    " - What are DS job functions? <br>\n",
    " - What do DS spend their time on? <br>\n",
    " \n",
    "<b>Relevant data: </b> <br>\n",
    "<b>Method of Inqury:</b>"
   ]
  },
  {
   "cell_type": "code",
   "execution_count": null,
   "metadata": {
    "collapsed": true
   },
   "outputs": [],
   "source": [
    "# What do DS spend their time on?\n",
    "import itertools\n",
    "plt.subplots(figsize=(22,10))\n",
    "time_spent=['TimeFindingInsights','TimeVisualizing','TimeGatheringData','TimeModelBuilding']\n",
    "length=len(time_spent)\n",
    "for i,j in itertools.zip_longest(time_spent,range(length)):\n",
    "    plt.subplot((length/2),2,j+1)\n",
    "    plt.subplots_adjust(wspace=0.2,hspace=0.5)\n",
    "    scientist[i].hist(bins=10,edgecolor='black')\n",
    "    plt.axvline(scientist[i].mean(),linestyle='dashed',color='r')\n",
    "    plt.title(i,size=20)\n",
    "    plt.xlabel('% Time')\n",
    "plt.show()"
   ]
  },
  {
   "cell_type": "markdown",
   "metadata": {},
   "source": [
    "<b>Findings:</b> "
   ]
  },
  {
   "cell_type": "markdown",
   "metadata": {},
   "source": [
    "### Skills, Tools, Languages\n",
    "<b>Question(s)</b>: \n",
    " - What skills do DS possess? <br>\n",
    " - What kind of tools do DS use? <br>\n",
    " - What programming languages do DS use?\n",
    " \n",
    "<b>Relevant data: </b> <br>\n",
    "<b>Method of Inqury:</b>"
   ]
  },
  {
   "cell_type": "code",
   "execution_count": null,
   "metadata": {
    "collapsed": true
   },
   "outputs": [],
   "source": [
    "# What programming languages do DS use?\n",
    "resp=response.dropna(subset=['WorkToolsSelect'])\n",
    "resp=resp.merge(rates,left_on='CompensationCurrency',right_on='originCountry',how='left')\n",
    "python=resp[(resp['WorkToolsSelect'].str.contains('Python'))&(~resp['WorkToolsSelect'].str.contains('R'))]\n",
    "R=resp[(~resp['WorkToolsSelect'].str.contains('Python'))&(resp['WorkToolsSelect'].str.contains('R'))]\n",
    "both=resp[(resp['WorkToolsSelect'].str.contains('Python'))&(resp['WorkToolsSelect'].str.contains('R'))]\n",
    "\n",
    "f,ax=plt.subplots(1,2,figsize=(18,8))\n",
    "pd.Series([python.shape[0],R.shape[0],both.shape[0]],index=['Python','R','Both']).plot.bar(ax=ax[0])\n",
    "ax[0].set_title('Number of Users')\n",
    "venn2(subsets = (python.shape[0],R.shape[0],both.shape[0]), set_labels = ('Python Users', 'R Users'))\n",
    "plt.title('Venn Diagram for Users')\n",
    "plt.show()"
   ]
  },
  {
   "cell_type": "markdown",
   "metadata": {},
   "source": [
    "<b>Findings:</b> "
   ]
  },
  {
   "cell_type": "markdown",
   "metadata": {},
   "source": [
    "### Work Environment\n",
    "<b>Question(s)</b>: \n",
    " - How satisfied are DS with their job? <br>\n",
    " - What challenges do DS face at work?\n",
    " \n",
    "<b>Relevant data: </b> <br>\n",
    "<b>Method of Inqury:</b>"
   ]
  },
  {
   "cell_type": "code",
   "execution_count": null,
   "metadata": {
    "collapsed": true
   },
   "outputs": [],
   "source": [
    "# What challenges do DS face at work?\n",
    "plt.subplots(figsize=(15,15))\n",
    "challenge=response['WorkChallengesSelect'].str.split(',')\n",
    "challenges=[]\n",
    "for i in challenge.dropna():\n",
    "    challenges.extend(i)\n",
    "pd.Series(challenges).value_counts().sort_values(ascending=True).plot.barh(width=0.9,color=sns.color_palette('inferno',25))\n",
    "plt.title('Challenges in Data Science')\n",
    "plt.show()"
   ]
  },
  {
   "cell_type": "code",
   "execution_count": null,
   "metadata": {
    "collapsed": true
   },
   "outputs": [],
   "source": [
    "# How satisfied are DS with their job? \n",
    "satisfy=response.copy()\n",
    "satisfy['JobSatisfaction'].replace({'10 - Highly Satisfied':'10','1 - Highly Dissatisfied':'1','I prefer not to share':np.NaN},inplace=True)\n",
    "satisfy.dropna(subset=['JobSatisfaction'],inplace=True)\n",
    "satisfy['JobSatisfaction']=satisfy['JobSatisfaction'].astype(int)\n",
    "satisfy_job=satisfy.groupby(['CurrentJobTitleSelect'])['JobSatisfaction'].mean().sort_values(ascending=True).to_frame()\n",
    "ax=satisfy.groupby(['CurrentJobTitleSelect'])['JobSatisfaction'].mean().sort_values(ascending=True).plot.barh(width=0.9,color=sns.color_palette('inferno',20))\n",
    "fig=plt.gcf()\n",
    "fig.set_size_inches(8,10)\n",
    "for i, v in enumerate(satisfy_job.JobSatisfaction): \n",
    "    ax.text(.1, i, v,fontsize=10,color='white',weight='bold')\n",
    "plt.title('Job Satisfaction out of 10')\n",
    "plt.show()"
   ]
  },
  {
   "cell_type": "markdown",
   "metadata": {},
   "source": [
    "<b>Findings:</b> "
   ]
  },
  {
   "cell_type": "markdown",
   "metadata": {},
   "source": [
    "### Learning\n",
    "<b>Question(s)</b>: \n",
    " - How do DS squire data science skills?\n",
    " \n",
    "<b>Relevant data: </b> <br>\n",
    "<b>Method of Inqury:</b>"
   ]
  },
  {
   "cell_type": "markdown",
   "metadata": {},
   "source": [
    "<b>Findings:</b> "
   ]
  },
  {
   "cell_type": "markdown",
   "metadata": {},
   "source": [
    "### Compensation\n",
    "<b>Question(s)</b>: \n",
    " - What kind of money do DS make?\n",
    " \n",
    " \n",
    "<b>Relevant data: </b> <br>\n",
    "<b>Method of Inqury:</b>"
   ]
  },
  {
   "cell_type": "code",
   "execution_count": null,
   "metadata": {
    "collapsed": true
   },
   "outputs": [],
   "source": [
    "#  What kind of money do DS make?\n",
    "response['CompensationAmount']=response['CompensationAmount'].str.replace(',','')\n",
    "response['CompensationAmount']=response['CompensationAmount'].str.replace('-','')\n",
    "rates=pd.read_csv('../input/conversionRates.csv')\n",
    "rates.drop('Unnamed: 0',axis=1,inplace=True)\n",
    "salary=response[['CompensationAmount','CompensationCurrency','GenderSelect','Country','CurrentJobTitleSelect']].dropna()\n",
    "salary=salary.merge(rates,left_on='CompensationCurrency',right_on='originCountry',how='left')\n",
    "salary['Salary']=pd.to_numeric(salary['CompensationAmount'])*salary['exchangeRate']\n",
    "print('Maximum Salary is USD $',salary['Salary'].dropna().astype(int).max())\n",
    "print('Minimum Salary is USD $',salary['Salary'].dropna().astype(int).min())\n",
    "print('Median Salary is USD $',salary['Salary'].dropna().astype(int).median())"
   ]
  },
  {
   "cell_type": "code",
   "execution_count": null,
   "metadata": {
    "collapsed": true
   },
   "outputs": [],
   "source": [
    "plt.subplots(figsize=(15,8))\n",
    "salary=salary[salary['Salary']<1000000]\n",
    "sns.distplot(salary['Salary'])\n",
    "plt.title('Salary Distribution',size=15)\n",
    "plt.show()"
   ]
  },
  {
   "cell_type": "markdown",
   "metadata": {},
   "source": [
    "<b>Findings:</b> "
   ]
  },
  {
   "cell_type": "markdown",
   "metadata": {},
   "source": [
    "### Job Search\n",
    "<b>Question(s)</b>: \n",
    " - How did DS find their last job?\n",
    " \n",
    " \n",
    "<b>Relevant data: </b> <br>\n",
    "<b>Method of Inqury:</b>"
   ]
  },
  {
   "cell_type": "code",
   "execution_count": null,
   "metadata": {
    "collapsed": true
   },
   "outputs": [],
   "source": [
    "# How did DS find their last job?\n",
    "plt.subplots(figsize=(10,8))\n",
    "scientist.groupby(['EmployerSearchMethod'])['Age'].count().sort_values(ascending=True).plot.barh(width=0.8,color=sns.color_palette('winter',10))\n",
    "plt.title('Job Search Method',size=15)\n",
    "plt.ylabel('')\n",
    "plt.show()"
   ]
  },
  {
   "cell_type": "markdown",
   "metadata": {},
   "source": [
    "<b>Findings:</b> "
   ]
  },
  {
   "cell_type": "markdown",
   "metadata": {},
   "source": [
    "## Final Remarks"
   ]
  }
 ],
 "metadata": {
  "anaconda-cloud": {},
  "kernelspec": {
   "display_name": "Python 3",
   "language": "python",
   "name": "python3"
  },
  "language_info": {
   "codemirror_mode": {
    "name": "ipython",
    "version": 3
   },
   "file_extension": ".py",
   "mimetype": "text/x-python",
   "name": "python",
   "nbconvert_exporter": "python",
   "pygments_lexer": "ipython3",
   "version": "3.6.0"
  }
 },
 "nbformat": 4,
 "nbformat_minor": 1
}
