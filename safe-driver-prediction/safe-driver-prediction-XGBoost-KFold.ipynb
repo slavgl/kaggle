{
 "cells": [
  {
   "cell_type": "markdown",
   "metadata": {
    "_cell_guid": "5a600795-43d4-4227-9bd2-f25a13d05a99",
    "_uuid": "82f409f98d84e5aaa130dadacee759271477382d"
   },
   "source": [
    "## Porto Seguro’s Safe Driver Prediction\n",
    "\n",
    "<b>Competition Goal</b>: help car insurance company (Porto Seguro) to improve their model for predicting incident probability based on customer's profile. More accurate prediction will allow them to offer auto insurance policy at competitive customer-specific price point. <br>\n",
    "\n",
    "### Action Plan\n",
    "1. run an exploratory analysis on the dataset;\n",
    "2. set up and train XGBoost model with stratified KFold;\n",
    "3. stack KFold predictions, evaluate the submission;\n",
    "4. tune XGBoost model parameters; repeat.\n",
    "\n",
    "### Steps\n",
    "\n",
    "- set up the environment\n",
    "- read in the data\n",
    "- split features and target variable\n",
    "- check if the class distribution is balanced\n",
    "- explore correlation matrix\n",
    "- define the gini metric for model evaluation\n",
    "- define training, prediction and submission datasets\n",
    "- set stratified KFold training structure\n",
    "- set XGBoost parameters\n",
    "- train XGBoost model\n",
    "- make ensemble prediction\n",
    "- Put submission into csv format"
   ]
  },
  {
   "cell_type": "code",
   "execution_count": null,
   "metadata": {
    "_cell_guid": "9dfa8b80-9a5d-4c92-ac17-18d678ac35b8",
    "_uuid": "85cf8f32aa5179d80968b007537a08bdb781b28f",
    "collapsed": true
   },
   "outputs": [],
   "source": [
    "# set up the environment\n",
    "import numpy as np\n",
    "import pandas as pd\n",
    "import seaborn as sns\n",
    "import matplotlib.pyplot as plt\n",
    "\n",
    "from sklearn.model_selection import StratifiedKFold\n",
    "import xgboost as xgb\n",
    "\n",
    "%matplotlib inline"
   ]
  },
  {
   "cell_type": "code",
   "execution_count": null,
   "metadata": {
    "_cell_guid": "e2ad9237-bc88-42c6-b196-c38f01c695de",
    "_uuid": "0882d3357aaaa908c395c52105bb7dcee7e2ddc0",
    "collapsed": true
   },
   "outputs": [],
   "source": [
    "# read in the data\n",
    "train=pd.read_csv('train.csv', na_values=-1)\n",
    "test=pd.read_csv('test.csv', na_values=-1)"
   ]
  },
  {
   "cell_type": "code",
   "execution_count": null,
   "metadata": {
    "_cell_guid": "03c4bc1f-f027-4236-b071-f48f40f73eb4",
    "_uuid": "e8b870948bebb05ace4a93fd60bbb3d11ed0400f",
    "collapsed": true
   },
   "outputs": [],
   "source": [
    "# split features and target variable\n",
    "features = train.drop(['id','target'], axis=1).values\n",
    "targets = train.target.values"
   ]
  },
  {
   "cell_type": "code",
   "execution_count": null,
   "metadata": {
    "_cell_guid": "9722b9dc-3a2b-4ab2-8393-728cc7713dc2",
    "_uuid": "76a60dcde2c706ca25c3656c2f1e9bbf3e3f71e3",
    "collapsed": true
   },
   "outputs": [],
   "source": [
    "# check if the class distribution is balanced\n",
    "ax = sns.countplot(x = targets ,palette=\"Set2\")\n",
    "sns.set(font_scale=1.5)\n",
    "ax.set_xlabel(' ')\n",
    "ax.set_ylabel(' ')\n",
    "fig = plt.gcf()\n",
    "fig.set_size_inches(10,5)\n",
    "ax.set_ylim(top=700000)\n",
    "for p in ax.patches:\n",
    "    ax.annotate('{:.2f}%'.format(100*p.get_height()/len(targets)), (p.get_x()+ 0.3, p.get_height()+10000))\n",
    "\n",
    "plt.title('Distribution of 595212 Targets')\n",
    "plt.xlabel('Initiation of Auto Insurance Claim Next Year')\n",
    "plt.ylabel('Frequency [%]')\n",
    "plt.show()\n",
    "\n",
    "# much higher proportion of class 0 is observed"
   ]
  },
  {
   "cell_type": "code",
   "execution_count": null,
   "metadata": {
    "_cell_guid": "a6909cab-0a23-40ee-9232-135b492069b8",
    "_uuid": "8499f27a16e180fea1f0da645faff27b068d688f",
    "collapsed": true
   },
   "outputs": [],
   "source": [
    "# explore the correlation matrix\n",
    "corr = train.corr()\n",
    "sns.set(style=\"white\")\n",
    "f, ax = plt.subplots(figsize=(11, 9))\n",
    "cmap = sns.diverging_palette(220, 10, as_cmap=True)\n",
    "sns.heatmap(corr, cmap=cmap, vmax=.3, center=0, square=True, linewidths=.5, cbar_kws={\"shrink\": .5})\n",
    "plt.show()\n",
    "\n",
    "# ps_calc_ features seem to have minimual correlation with target variable"
   ]
  },
  {
   "cell_type": "code",
   "execution_count": null,
   "metadata": {
    "collapsed": true
   },
   "outputs": [],
   "source": [
    "# remove ps_calc_ features from the train / test data\n",
    "unwanted = train.columns[train.columns.str.startswith('ps_calc_')]\n",
    "train = train.drop(unwanted, axis=1)  \n",
    "test = test.drop(unwanted, axis=1)"
   ]
  },
  {
   "cell_type": "code",
   "execution_count": null,
   "metadata": {
    "_cell_guid": "6ec93bd8-13e4-456f-ba01-22aafa6762f6",
    "_uuid": "2c1426791afedb9ffcd855e7cd022f13bd68e7b7",
    "collapsed": true
   },
   "outputs": [],
   "source": [
    "# Define the gini metric for model evaluation\n",
    "# forked from https://www.kaggle.com/c/ClaimPredictionChallenge/discussion/703#5897\n",
    "def gini(actual, pred, cmpcol = 0, sortcol = 1):\n",
    "    assert( len(actual) == len(pred) )\n",
    "    all = np.asarray(np.c_[ actual, pred, np.arange(len(actual)) ], dtype=np.float)\n",
    "    all = all[ np.lexsort((all[:,2], -1*all[:,1])) ]\n",
    "    totalLosses = all[:,0].sum()\n",
    "    giniSum = all[:,0].cumsum().sum() / totalLosses\n",
    "    \n",
    "    giniSum -= (len(actual) + 1) / 2.\n",
    "    return giniSum / len(actual)\n",
    " \n",
    "def gini_normalized(a, p):\n",
    "    return gini(a, p) / gini(a, a)\n",
    "\n",
    "def gini_xgb(preds, dtrain):\n",
    "    labels = dtrain.get_label()\n",
    "    gini_score = gini_normalized(labels, preds)\n",
    "    return 'gini', gini_score"
   ]
  },
  {
   "cell_type": "code",
   "execution_count": null,
   "metadata": {
    "_cell_guid": "e36cad63-66df-4209-9ff0-20a488159e06",
    "_uuid": "1a842f3b72c03fbf0e49e78258def00c13bcff2c",
    "collapsed": true
   },
   "outputs": [],
   "source": [
    "# define training, prediction and submission datasets\n",
    "X = train.drop(['id', 'target'], axis=1).values\n",
    "y = train.target.values\n",
    "\n",
    "test_id = test.id.values\n",
    "test = test.drop('id', axis=1)\n",
    "\n",
    "sub = pd.DataFrame()\n",
    "sub['id'] = test_id\n",
    "sub['target'] = np.zeros_like(test_id)\n",
    "\n",
    "# set stratified KFold training structure\n",
    "kfold = 5\n",
    "skf = StratifiedKFold(n_splits=kfold, random_state=0)"
   ]
  },
  {
   "cell_type": "code",
   "execution_count": null,
   "metadata": {
    "collapsed": true
   },
   "outputs": [],
   "source": [
    "# set XGBoost parameters\n",
    "params = {\n",
    "    'min_child_weight': 10.0,\n",
    "    'objective': 'binary:logistic',\n",
    "    'max_depth': 7,\n",
    "    'max_delta_step': 1.8,\n",
    "    'colsample_bytree': 0.4,\n",
    "    'subsample': 0.8,\n",
    "    'eta': 0.025,\n",
    "    'gamma': 0.65,\n",
    "    'num_boost_round' : 700\n",
    "    }"
   ]
  },
  {
   "cell_type": "code",
   "execution_count": null,
   "metadata": {
    "_cell_guid": "111c004f-df7c-4b8e-8d20-7c1fb4e9af59",
    "_uuid": "cc2dd2cb0ca4acabe81a1e2313e21bfac8671dae",
    "collapsed": true,
    "scrolled": false
   },
   "outputs": [],
   "source": [
    "# train with XGBoost and make subsequient predictions\n",
    "# forked from (https://www.kaggle.com/kueipo/stratifiedshufflesplit-xgboost-example-0-28) \n",
    "for i, (train_index, test_index) in enumerate(skf.split(X, y)):\n",
    "    print('[Fold %d/%d]' % (i + 1, kfold))\n",
    "    X_train, X_valid = X[train_index], X[test_index]\n",
    "    y_train, y_valid = y[train_index], y[test_index]\n",
    "    \n",
    "    d_train = xgb.DMatrix(X_train, y_train)\n",
    "    d_valid = xgb.DMatrix(X_valid, y_valid)\n",
    "    d_test = xgb.DMatrix(test.values)\n",
    "    \n",
    "    watchlist = [(d_train, 'train'), (d_valid, 'valid')]\n",
    "\n",
    "    # train the model\n",
    "    mdl = xgb.train(params, d_train, 1600, watchlist, early_stopping_rounds=70, feval=gini_xgb, maximize=True, verbose_eval=100)\n",
    "    \n",
    "    # make prediction\n",
    "    print('[Fold %d/%d Prediciton:]' % (i + 1, kfold))\n",
    "    p_test = mdl.predict(d_test, ntree_limit=mdl.best_ntree_limit)\n",
    "    \n",
    "    # add prediction to ensemble\n",
    "    sub['target'] += p_test/kfold"
   ]
  },
  {
   "cell_type": "code",
   "execution_count": null,
   "metadata": {
    "_cell_guid": "8df72cf4-9e4e-4135-88ac-1cf19d4d69c8",
    "_uuid": "c9a622eae062317ac1eee0be3029d42929d1b25c",
    "collapsed": true
   },
   "outputs": [],
   "source": [
    "# Put final predictions into csv format\n",
    "sub.to_csv('submission.csv', index=False)"
   ]
  }
 ],
 "metadata": {
  "kernelspec": {
   "display_name": "Python 3",
   "language": "python",
   "name": "python3"
  },
  "language_info": {
   "codemirror_mode": {
    "name": "ipython",
    "version": 3
   },
   "file_extension": ".py",
   "mimetype": "text/x-python",
   "name": "python",
   "nbconvert_exporter": "python",
   "pygments_lexer": "ipython3",
   "version": "3.6.0"
  }
 },
 "nbformat": 4,
 "nbformat_minor": 1
}
